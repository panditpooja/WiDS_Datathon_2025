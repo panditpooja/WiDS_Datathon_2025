{
 "cells": [
  {
   "cell_type": "code",
   "execution_count": 22,
   "id": "4c0af3d6",
   "metadata": {},
   "outputs": [],
   "source": [
    "import pandas as pd\n",
    "import seaborn as sns\n",
    "import matplotlib.pyplot as plt\n",
    "from sklearn.preprocessing import StandardScaler\n",
    "from sklearn.preprocessing import LabelEncoder\n",
    "from sklearn.model_selection import train_test_split\n"
   ]
  },
  {
   "cell_type": "code",
   "execution_count": 17,
   "id": "b03797e8",
   "metadata": {},
   "outputs": [
    {
     "name": "stdout",
     "output_type": "stream",
     "text": [
      "<class 'pandas.core.frame.DataFrame'>\n",
      "RangeIndex: 1213 entries, 0 to 1212\n",
      "Data columns (total 3 columns):\n",
      " #   Column          Non-Null Count  Dtype \n",
      "---  ------          --------------  ----- \n",
      " 0   participant_id  1213 non-null   object\n",
      " 1   ADHD_Outcome    1213 non-null   int64 \n",
      " 2   Sex_F           1213 non-null   int64 \n",
      "dtypes: int64(2), object(1)\n",
      "memory usage: 28.6+ KB\n",
      "None\n"
     ]
    }
   ],
   "source": [
    "# datasets\n",
    "\n",
    "categorical_data = pd.read_excel(\"train_new/TRAIN_CATEGORICAL_METADATA_new.xlsx\")\n",
    "quantitative_data = pd.read_excel(\"train_new/TRAIN_QUANTITATIVE_METADATA_new.xlsx\")\n",
    "connectome_data = pd.read_csv(\"train_new/TRAIN_FUNCTIONAL_CONNECTOME_MATRICES_new_36P_Pearson.csv\")\n",
    "train_data = pd.read_excel(\"train_new/TRAINING_SOLUTIONS.xlsx\")\n",
    "\n",
    "print(train_data.info())"
   ]
  },
  {
   "cell_type": "code",
   "execution_count": 14,
   "id": "a6063cd4",
   "metadata": {},
   "outputs": [
    {
     "name": "stdout",
     "output_type": "stream",
     "text": [
      "     participant_id  Basic_Demos_Enroll_Year  Basic_Demos_Study_Site  \\\n",
      "0      00aIpNTbG5uh                     2019                       4   \n",
      "1      00fV0OyyoLfw                     2017                       1   \n",
      "2      04X1eiS79T4B                     2017                       1   \n",
      "3      05ocQutkURd6                     2018                       1   \n",
      "4      06YUNBA9ZRLq                     2018                       1   \n",
      "...             ...                      ...                     ...   \n",
      "1208   zwjJWCRzKhDz                     2019                       4   \n",
      "1209   zwXD5v17Rx01                     2018                       1   \n",
      "1210   zWzLCi3NTBTd                     2018                       3   \n",
      "1211   Zy9GTHDxUbXU                     2019                       4   \n",
      "1212   Zye7yYRQohXi                     2017                       1   \n",
      "\n",
      "      PreInt_Demos_Fam_Child_Ethnicity  PreInt_Demos_Fam_Child_Race  \\\n",
      "0                                  1.0                          0.0   \n",
      "1                                  0.0                          9.0   \n",
      "2                                  1.0                          2.0   \n",
      "3                                  3.0                          8.0   \n",
      "4                                  0.0                          1.0   \n",
      "...                                ...                          ...   \n",
      "1208                               1.0                          1.0   \n",
      "1209                               0.0                          0.0   \n",
      "1210                               2.0                          3.0   \n",
      "1211                               0.0                          1.0   \n",
      "1212                               0.0                          0.0   \n",
      "\n",
      "      MRI_Track_Scan_Location  Barratt_Barratt_P1_Edu  Barratt_Barratt_P1_Occ  \\\n",
      "0                         3.0                    21.0                    45.0   \n",
      "1                         2.0                    21.0                     0.0   \n",
      "2                         2.0                     9.0                     0.0   \n",
      "3                         2.0                    18.0                    10.0   \n",
      "4                         2.0                    12.0                     0.0   \n",
      "...                       ...                     ...                     ...   \n",
      "1208                      3.0                    12.0                     NaN   \n",
      "1209                      3.0                    21.0                    40.0   \n",
      "1210                      3.0                    21.0                    40.0   \n",
      "1211                      3.0                    18.0                    35.0   \n",
      "1212                      2.0                    18.0                    35.0   \n",
      "\n",
      "      Barratt_Barratt_P2_Edu  Barratt_Barratt_P2_Occ  ...  \\\n",
      "0                        NaN                     NaN  ...   \n",
      "1                       21.0                    45.0  ...   \n",
      "2                        NaN                     NaN  ...   \n",
      "3                       18.0                     0.0  ...   \n",
      "4                        NaN                     NaN  ...   \n",
      "...                      ...                     ...  ...   \n",
      "1208                    15.0                     5.0  ...   \n",
      "1209                    21.0                    40.0  ...   \n",
      "1210                    21.0                    35.0  ...   \n",
      "1211                    18.0                    45.0  ...   \n",
      "1212                    15.0                    35.0  ...   \n",
      "\n",
      "      195throw_198thcolumn  195throw_199thcolumn  196throw_197thcolumn  \\\n",
      "0                -0.280312              0.037560              0.423037   \n",
      "1                -0.332783             -0.332711              0.556939   \n",
      "2                -0.002132             -0.175586              0.679183   \n",
      "3                -0.199576             -0.216457              0.519074   \n",
      "4                -0.141012             -0.002865              0.515169   \n",
      "...                    ...                   ...                   ...   \n",
      "1208              0.112789              0.211312              0.601190   \n",
      "1209              0.253990              0.198741              0.648260   \n",
      "1210              0.044653              0.234887              0.538475   \n",
      "1211             -0.035955             -0.062152              0.706214   \n",
      "1212             -0.180668             -0.228028              0.608149   \n",
      "\n",
      "      196throw_198thcolumn  196throw_199thcolumn  197throw_198thcolumn  \\\n",
      "0                 0.242453              0.336213              0.402338   \n",
      "1                 0.475578              0.429196              0.457970   \n",
      "2                 0.290292              0.486680              0.255208   \n",
      "3                 0.298586              0.415466              0.511607   \n",
      "4                 0.336139              0.316430              0.442230   \n",
      "...                    ...                   ...                   ...   \n",
      "1208              0.587116              0.312695              0.485938   \n",
      "1209              0.055241              0.491985              0.118676   \n",
      "1210              0.024265              0.472322              0.095624   \n",
      "1211              0.183288              0.104987              0.420463   \n",
      "1212              0.116950              0.264398              0.559703   \n",
      "\n",
      "      197throw_199thcolumn  198throw_199thcolumn  ADHD_Outcome  Sex_F  \n",
      "0                 0.327915              0.539032             1      0  \n",
      "1                 0.312571              0.595978             1      0  \n",
      "2                 0.575017              0.605182             0      1  \n",
      "3                 0.361204              0.446613             0      1  \n",
      "4                 0.177079              0.378278             1      0  \n",
      "...                    ...                   ...           ...    ...  \n",
      "1208              0.189102              0.354333             0      1  \n",
      "1209              0.404331              0.537121             1      0  \n",
      "1210              0.205326              0.182633             1      1  \n",
      "1211              0.152727              0.706737             1      0  \n",
      "1212              0.351096              0.301253             0      1  \n",
      "\n",
      "[1213 rows x 19930 columns]\n",
      "Shape after dropping missing values: (1213, 19930)\n"
     ]
    }
   ],
   "source": [
    "merged_data = categorical_data.merge(quantitative_data, on='participant_id', how='inner')\n",
    "merged_data = merged_data.merge(connectome_data, on='participant_id', how='inner')\n",
    "merged_data = merged_data.merge(train_data, on='participant_id', how='inner')\n",
    "\n",
    "print(merged_data)\n",
    "print(\"Shape after dropping missing values:\", merged_data.shape)\n"
   ]
  },
  {
   "cell_type": "code",
   "execution_count": null,
   "id": "c4bba37f",
   "metadata": {},
   "outputs": [
    {
     "name": "stdout",
     "output_type": "stream",
     "text": [
      "Shape after dropping missing values: (619, 19930)\n"
     ]
    }
   ],
   "source": [
    "# missing values\n",
    "merged_data.isnull().sum()\n",
    "\n",
    "merged_data_clean = merged_data.dropna()\n",
    "\n",
    "# merged_data_clean.isnull().sum()\n",
    "print(\"Shape after dropping missing values:\", merged_data_clean.shape)\n",
    "\n"
   ]
  },
  {
   "cell_type": "code",
   "execution_count": 16,
   "id": "376594ae",
   "metadata": {},
   "outputs": [
    {
     "name": "stdout",
     "output_type": "stream",
     "text": [
      "Index(['participant_id'], dtype='object')\n"
     ]
    }
   ],
   "source": [
    "categorical_cols = merged_data_clean.select_dtypes(include='object').columns\n",
    "print(categorical_cols)"
   ]
  },
  {
   "cell_type": "code",
   "execution_count": 20,
   "id": "d92bb0b5",
   "metadata": {},
   "outputs": [],
   "source": [
    "# target variables\n",
    "y = merged_data_clean[['Sex_F', 'ADHD_Outcome']]\n",
    "\n",
    "# dropping participant_id and target variables\n",
    "X = merged_data_clean.drop(['participant_id', 'Sex_F', 'ADHD_Outcome'], axis=1)\n"
   ]
  },
  {
   "cell_type": "code",
   "execution_count": 24,
   "id": "b86b52dd",
   "metadata": {},
   "outputs": [],
   "source": [
    "\n",
    "X_scaled = StandardScaler().fit_transform(X)\n"
   ]
  },
  {
   "cell_type": "code",
   "execution_count": 23,
   "id": "d4ce2496",
   "metadata": {},
   "outputs": [],
   "source": [
    "# train - test split data\n",
    "\n",
    "X_train, X_test, y_train, y_test = train_test_split( X_scaled, y, test_size=0.2, random_state=42 )\n"
   ]
  }
 ],
 "metadata": {
  "kernelspec": {
   "display_name": "Python 3",
   "language": "python",
   "name": "python3"
  },
  "language_info": {
   "codemirror_mode": {
    "name": "ipython",
    "version": 3
   },
   "file_extension": ".py",
   "mimetype": "text/x-python",
   "name": "python",
   "nbconvert_exporter": "python",
   "pygments_lexer": "ipython3",
   "version": "3.10.2"
  }
 },
 "nbformat": 4,
 "nbformat_minor": 5
}
